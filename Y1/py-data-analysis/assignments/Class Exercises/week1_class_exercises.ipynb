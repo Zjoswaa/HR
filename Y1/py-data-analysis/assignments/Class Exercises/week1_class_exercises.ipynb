{
 "cells": [
  {
   "cell_type": "markdown",
   "id": "6744b59b",
   "metadata": {},
   "source": [
    "# Python for Applied Data Science, OP2"
   ]
  },
  {
   "cell_type": "markdown",
   "id": "24a8b14a",
   "metadata": {},
   "source": [
    "- This is a Markdown cell and you can create it, by clicking first ESC and then M on the cell. And then Shift + Enter"
   ]
  },
  {
   "cell_type": "code",
   "id": "5b64e759",
   "metadata": {},
   "source": [
    "# This is a code cell\n",
    "\n",
    "# Print hello Python code in a Jupyter cell\n",
    "print(\"Hello, Jupyter!\")"
   ],
   "outputs": [],
   "execution_count": null
  },
  {
   "cell_type": "code",
   "id": "6c4561d2",
   "metadata": {},
   "source": [
    "# we start by importing the required libraries\n",
    "\n",
    "import pandas as pd\n",
    "import numpy as np"
   ],
   "outputs": [],
   "execution_count": null
  },
  {
   "cell_type": "code",
   "id": "2d6fe43f",
   "metadata": {},
   "source": [
    "# Create a NumPy array\n",
    "arr = np.array([1, 2, 3, 4, 5, 6, 7, 8, 9, 10])\n",
    "\n",
    "#  Calculate the mean and standard deviation of the array.\n",
    "mean = np.mean(arr)\n",
    "sdev = np.std(arr)\n",
    "\n",
    "mean, sdev"
   ],
   "outputs": [],
   "execution_count": null
  },
  {
   "cell_type": "code",
   "id": "117fb17c",
   "metadata": {},
   "source": [
    "# Create a Pandas DataFrame\n",
    "data = {'Name': ['Alice', 'Bob', 'Charlie'],\n",
    "        'Age': [25, 30, 35],\n",
    "        'City': ['New York', 'San Francisco', 'Los Angeles']}\n",
    "\n",
    "df = pd.DataFrame(data)"
   ],
   "outputs": [],
   "execution_count": null
  },
  {
   "cell_type": "code",
   "id": "0a177c2d",
   "metadata": {},
   "source": [
    "df"
   ],
   "outputs": [],
   "execution_count": null
  },
  {
   "cell_type": "code",
   "id": "823b1b06",
   "metadata": {},
   "source": [
    "df.describe()"
   ],
   "outputs": [],
   "execution_count": null
  },
  {
   "cell_type": "code",
   "id": "d38f4be1",
   "metadata": {},
   "source": [
    "# Creating a dataframe by reading a CSV file\n",
    "df = pd.read_csv('netherlands_IT_salaries_15.csv')"
   ],
   "outputs": [],
   "execution_count": null
  },
  {
   "cell_type": "code",
   "id": "5be1e2f8",
   "metadata": {},
   "source": [
    "df"
   ],
   "outputs": [],
   "execution_count": null
  },
  {
   "cell_type": "code",
   "id": "e9c64f83",
   "metadata": {},
   "source": [
    "df.shape"
   ],
   "outputs": [],
   "execution_count": null
  },
  {
   "cell_type": "code",
   "id": "9adf10ae",
   "metadata": {},
   "source": [
    "df.columns"
   ],
   "outputs": [],
   "execution_count": null
  },
  {
   "cell_type": "code",
   "id": "d8e7c0cc",
   "metadata": {},
   "source": [
    "df.index"
   ],
   "outputs": [],
   "execution_count": null
  },
  {
   "cell_type": "code",
   "id": "51e5b8f2",
   "metadata": {},
   "source": [
    "df.dtypes"
   ],
   "outputs": [],
   "execution_count": null
  },
  {
   "cell_type": "code",
   "id": "0c58f472",
   "metadata": {},
   "source": [
    "# Display the first 3 rows of the dataset\n",
    "df.head(3)"
   ],
   "outputs": [],
   "execution_count": null
  },
  {
   "cell_type": "code",
   "id": "f73d07e2",
   "metadata": {},
   "source": [
    "df.tail(3)"
   ],
   "outputs": [],
   "execution_count": null
  },
  {
   "cell_type": "code",
   "id": "af218837",
   "metadata": {},
   "source": [
    "df.info()"
   ],
   "outputs": [],
   "execution_count": null
  },
  {
   "cell_type": "code",
   "id": "fff514c1",
   "metadata": {},
   "source": [
    "df.describe()"
   ],
   "outputs": [],
   "execution_count": null
  },
  {
   "cell_type": "code",
   "id": "a512066a5b6d5603",
   "metadata": {},
   "source": [
    "# Perform basic analysis using Pandas and NumPy \n",
    "max_value = df['Salary'].max()\n",
    "mean_value = np.mean(df['Salary'])\n",
    "\n",
    "# Display results in the Jupyter Notebook\n",
    "mean_value, max_value"
   ],
   "outputs": [],
   "execution_count": null
  }
 ],
 "metadata": {
  "kernelspec": {
   "display_name": "Python 3 (ipykernel)",
   "language": "python",
   "name": "python3"
  },
  "language_info": {
   "codemirror_mode": {
    "name": "ipython",
    "version": 3
   },
   "file_extension": ".py",
   "mimetype": "text/x-python",
   "name": "python",
   "nbconvert_exporter": "python",
   "pygments_lexer": "ipython3",
   "version": "3.12.2"
  }
 },
 "nbformat": 4,
 "nbformat_minor": 5
}
