{
 "cells": [
  {
   "cell_type": "code",
   "id": "21ac8ae5",
   "metadata": {},
   "source": [
    "import pandas as pd\n",
    "import numpy as np"
   ],
   "outputs": [],
   "execution_count": null
  },
  {
   "cell_type": "markdown",
   "id": "8b1e8208",
   "metadata": {},
   "source": [
    "# Loading DataSet"
   ]
  },
  {
   "cell_type": "markdown",
   "id": "e9e9253c",
   "metadata": {},
   "source": [
    "## Dataset having 2 columns with same name"
   ]
  },
  {
   "cell_type": "markdown",
   "id": "4ac6577e",
   "metadata": {},
   "source": [
    "- I created a test.csv file that has 2 columns with exact same name with different values and as you can see, pandas when loading it, adds numbering to the column name.\n",
    "- After reading data and creating a dataframe, we can't create another column with same name and set values in that column because in that case it will work as data modification than adding a new column."
   ]
  },
  {
   "cell_type": "code",
   "id": "50c61425",
   "metadata": {
    "scrolled": true
   },
   "source": [
    "df_test = pd.read_csv('test.csv')\n",
    "\n",
    "df_test"
   ],
   "outputs": [],
   "execution_count": null
  },
  {
   "cell_type": "markdown",
   "id": "1672226d",
   "metadata": {},
   "source": [
    "### Let's load our dataset"
   ]
  },
  {
   "cell_type": "code",
   "id": "8f3f31a6",
   "metadata": {
    "scrolled": false
   },
   "source": [
    "df = pd.read_csv('netherlands_IT_salaries_15.csv')\n",
    "df.head()"
   ],
   "outputs": [],
   "execution_count": null
  },
  {
   "cell_type": "markdown",
   "id": "3dbec9c5",
   "metadata": {},
   "source": [
    "## Dtat exploration"
   ]
  },
  {
   "cell_type": "code",
   "id": "5946ab89",
   "metadata": {
    "scrolled": true
   },
   "source": [
    "df.shape"
   ],
   "outputs": [],
   "execution_count": null
  },
  {
   "cell_type": "code",
   "id": "6bf65df8",
   "metadata": {},
   "source": [
    "df.info()"
   ],
   "outputs": [],
   "execution_count": null
  },
  {
   "cell_type": "markdown",
   "id": "9feaf055",
   "metadata": {},
   "source": [
    "## Accessing to colums or columns"
   ]
  },
  {
   "cell_type": "code",
   "id": "00242f8a",
   "metadata": {
    "scrolled": false
   },
   "source": [
    "# Selecting one column\n",
    "salaries = df['Salary']\n",
    "\n",
    "salaries"
   ],
   "outputs": [],
   "execution_count": null
  },
  {
   "cell_type": "code",
   "id": "ad991f3a",
   "metadata": {
    "scrolled": true
   },
   "source": [
    "# Selecting multiple columns\n",
    "selected_colums = df[['Role', 'Salary']]\n",
    "\n",
    "selected_colums"
   ],
   "outputs": [],
   "execution_count": null
  },
  {
   "cell_type": "markdown",
   "id": "c24e2782",
   "metadata": {},
   "source": [
    "## Column aggrigiation"
   ]
  },
  {
   "cell_type": "code",
   "id": "31b5b96d",
   "metadata": {},
   "source": [
    "total_age = df['Age'].sum()\n",
    "average_age = df['Age'].mean()\n",
    "\n",
    "print(total_age, average_age)"
   ],
   "outputs": [],
   "execution_count": null
  },
  {
   "cell_type": "code",
   "id": "4ff8997c",
   "metadata": {},
   "source": [
    "city_counts = df['City'].value_counts()\n",
    "\n",
    "print(city_counts)"
   ],
   "outputs": [],
   "execution_count": null
  },
  {
   "cell_type": "markdown",
   "id": "b68ee89c",
   "metadata": {},
   "source": [
    "## Column renaming"
   ]
  },
  {
   "cell_type": "code",
   "id": "045fed24",
   "metadata": {
    "scrolled": true
   },
   "source": [
    "# Rename of column\n",
    "df.rename(columns={'Year':'Date'}, inplace=True)\n",
    "\n",
    "df"
   ],
   "outputs": [],
   "execution_count": null
  },
  {
   "cell_type": "markdown",
   "id": "e0ccd5b1",
   "metadata": {},
   "source": [
    "# Exercises"
   ]
  },
  {
   "cell_type": "markdown",
   "id": "864bafed",
   "metadata": {},
   "source": [
    "## DataFrame Operations"
   ]
  },
  {
   "cell_type": "code",
   "id": "497ab8ec",
   "metadata": {},
   "source": [
    "# Add a new column named Bonus with values calculated by Experience year multiplied by 2\n",
    "df['Bonus'] = df['Experience'] * 2\n",
    "\n",
    "df"
   ],
   "outputs": [],
   "execution_count": null
  },
  {
   "cell_type": "code",
   "id": "2780fe1f",
   "metadata": {
    "scrolled": true
   },
   "source": [
    "# Delete the newly created column 'Bonus' from the DataFrame\n",
    "df.drop(columns=['Bonus'], inplace=True)\n",
    "\n",
    "df"
   ],
   "outputs": [],
   "execution_count": null
  },
  {
   "cell_type": "code",
   "id": "cd62111e",
   "metadata": {
    "scrolled": true
   },
   "source": [
    "# Delete the employee with 'Role' as Helpdeskmanager from the DataFrame\n",
    "df = df[df['Role'] != 'Helpdeskmanager']\n",
    "\n",
    "df"
   ],
   "outputs": [],
   "execution_count": null
  },
  {
   "cell_type": "code",
   "id": "3dd9be4e",
   "metadata": {
    "scrolled": true
   },
   "source": [
    "# Delete the employee with 'Role' as Helpdeskmanager from the DataFrame using loc method\n",
    "df = df.loc[df['Role'] != 'Helpdeskmanager']\n",
    "\n",
    "df"
   ],
   "outputs": [],
   "execution_count": null
  },
  {
   "cell_type": "code",
   "id": "a52e1b93",
   "metadata": {},
   "source": [
    "# Modify the 'Salary' of the employee in Amsterdam to 20% more\n",
    "df.loc[df['City'] == 'Amsterdam', 'Salary'] *= 1.2\n",
    "df"
   ],
   "outputs": [],
   "execution_count": null
  },
  {
   "metadata": {},
   "cell_type": "code",
   "source": "df.loc[df['City'] == 'Amsterdam', 'Salary'] * 1.2",
   "id": "e97b5c605bf3b1ec",
   "outputs": [],
   "execution_count": null
  },
  {
   "cell_type": "markdown",
   "id": "a139dc80",
   "metadata": {},
   "source": [
    "## Filtering"
   ]
  },
  {
   "cell_type": "code",
   "id": "993a3810",
   "metadata": {},
   "source": [
    "# Filter the DataFrame to show only the employees with 'Experience' greater than 5 years\n",
    "df_exp_over_5 = df[df['Experience'] > 5]\n",
    "\n",
    "df_exp_over_5"
   ],
   "outputs": [],
   "execution_count": null
  },
  {
   "cell_type": "code",
   "id": "df39f459",
   "metadata": {
    "scrolled": true
   },
   "source": [
    "# Filter the DataFrame to show only the employees with 'Salary' less than 4000\n",
    "df_salary_less_5000 = df[df['Salary'] < 4000]\n",
    "\n",
    "df_salary_less_5000"
   ],
   "outputs": [],
   "execution_count": null
  },
  {
   "cell_type": "code",
   "id": "3e6bc5b8",
   "metadata": {},
   "source": [
    "# Filter the DataFrame to show only the employees who are 'Product Owner’\n",
    "df_product_owners = df[df['Role'] == 'Product Owner']\n",
    "\n",
    "df_product_owners"
   ],
   "outputs": [],
   "execution_count": null
  },
  {
   "cell_type": "code",
   "id": "4fb7e873",
   "metadata": {},
   "source": [
    "# Filter the DataFrame to show only the employees who have a 'HBO' education\n",
    "df_hbo_education = df[df['Education'] == 'HBO']\n",
    "\n",
    "df_hbo_education"
   ],
   "outputs": [],
   "execution_count": null
  },
  {
   "cell_type": "code",
   "id": "80d04a87",
   "metadata": {
    "scrolled": true
   },
   "source": [
    "# Filter the DataFrame to show only the employees who are not in 'Amsterdam'\n",
    "df_not_in_amsterdam = df[df['City'] != 'Amsterdam']\n",
    "\n",
    "df_not_in_amsterdam"
   ],
   "outputs": [],
   "execution_count": null
  },
  {
   "cell_type": "markdown",
   "id": "c3fc4307",
   "metadata": {},
   "source": [
    "## Advance Conditional Selection"
   ]
  },
  {
   "cell_type": "code",
   "id": "2c01cea5",
   "metadata": {},
   "source": [
    "# Select and display rows where 'Salary' is between 4000 and 5000\n",
    "salary_between_4k_and_5k = df[(df['Salary'] >= 4000) & (df['Salary'] <= 5000)]\n",
    "\n",
    "salary_between_4k_and_5k"
   ],
   "outputs": [],
   "execution_count": null
  },
  {
   "cell_type": "code",
   "id": "204eeac8",
   "metadata": {},
   "source": [
    "# Select and display rows where 'Role' is either 'Product Owner' or 'IT Consultant'\n",
    "df_PO_IT = df[(df['Role'] == 'Product Owner') | (df['Role'] == 'IT Consultant')]\n",
    "\n",
    "df_PO_IT"
   ],
   "outputs": [],
   "execution_count": null
  },
  {
   "cell_type": "code",
   "id": "6b1a3eab",
   "metadata": {},
   "source": [
    "# Select and display rows where 'City' is 'Amsterdam' and 'Experience' is less than 10 years, or 'City' is 'Rotterdam'\n",
    "amsterdam_experience_or_rotterdam = df[((df['City'] == 'Amsterdam') & (df['Experience'] < 10)) | (df['City'] == 'Rotterdam')]\n",
    "\n",
    "amsterdam_experience_or_rotterdam"
   ],
   "outputs": [],
   "execution_count": null
  },
  {
   "cell_type": "code",
   "id": "e58d3a64",
   "metadata": {},
   "source": [
    "# Select and display rows where 'Role' is 'Product Owner' and 'Experience' is greater than 5 or 'Salary' is greater than 4500\n",
    "product_owner_exp_or_salary = df[((df['Role'] == 'Product Owner') & (df['Experience'] > 5)) | (df['Salary'] > 4500)]\n",
    "\n",
    "product_owner_exp_or_salary"
   ],
   "outputs": [],
   "execution_count": null
  },
  {
   "cell_type": "code",
   "id": "7313bfd0",
   "metadata": {},
   "source": [
    "# Select and display rows where 'Education' is 'MBO' and 'City' is not 'Apeldoorn' or 'Experience' is less than 8\n",
    "mbo_not_apeldoorn_or_exp_less_8 = df[((df['Education'] == 'MBO') & (df['City'] != 'Apeldoorn')) | (df['Experience'] < 8)]\n",
    "\n",
    "mbo_not_apeldoorn_or_exp_less_8"
   ],
   "outputs": [],
   "execution_count": null
  }
 ],
 "metadata": {
  "kernelspec": {
   "display_name": "Python 3 (ipykernel)",
   "language": "python",
   "name": "python3"
  },
  "language_info": {
   "codemirror_mode": {
    "name": "ipython",
    "version": 3
   },
   "file_extension": ".py",
   "mimetype": "text/x-python",
   "name": "python",
   "nbconvert_exporter": "python",
   "pygments_lexer": "ipython3",
   "version": "3.11.5"
  }
 },
 "nbformat": 4,
 "nbformat_minor": 5
}
